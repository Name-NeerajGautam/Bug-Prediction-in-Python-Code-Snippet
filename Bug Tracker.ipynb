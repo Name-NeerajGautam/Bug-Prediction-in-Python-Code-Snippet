{
 "cells": [
  {
   "cell_type": "code",
   "execution_count": 1,
   "id": "1819507d-a886-424c-a5c5-e81eb19dcf6b",
   "metadata": {},
   "outputs": [],
   "source": [
    "import numpy as np\n",
    "import pandas as pd\n",
    "import os\n",
    "import pickle\n",
    "import re\n",
    "import nltk\n",
    "from nltk.tokenize import word_tokenize\n",
    "from nltk.corpus import stopwords\n"
   ]
  },
  {
   "cell_type": "code",
   "execution_count": 2,
   "id": "94718bdd-2572-45ac-bfb0-27b36a2d712b",
   "metadata": {},
   "outputs": [
    {
     "name": "stderr",
     "output_type": "stream",
     "text": [
      "[nltk_data] Downloading package punkt to\n",
      "[nltk_data]     C:\\Users\\neera\\AppData\\Roaming\\nltk_data...\n",
      "[nltk_data]   Package punkt is already up-to-date!\n",
      "[nltk_data] Downloading package punkt_tab to\n",
      "[nltk_data]     C:\\Users\\neera\\AppData\\Roaming\\nltk_data...\n",
      "[nltk_data]   Package punkt_tab is already up-to-date!\n",
      "[nltk_data] Downloading package stopwords to\n",
      "[nltk_data]     C:\\Users\\neera\\AppData\\Roaming\\nltk_data...\n",
      "[nltk_data]   Package stopwords is already up-to-date!\n"
     ]
    },
    {
     "data": {
      "text/plain": [
       "True"
      ]
     },
     "execution_count": 2,
     "metadata": {},
     "output_type": "execute_result"
    }
   ],
   "source": [
    "nltk.download('punkt')\n",
    "nltk.download('punkt_tab')\n",
    "nltk.download('stopwords')"
   ]
  },
  {
   "cell_type": "code",
   "execution_count": 3,
   "id": "f15a61ae-be30-4509-881b-cb8ba0c54877",
   "metadata": {},
   "outputs": [
    {
     "data": {
      "text/html": [
       "<div>\n",
       "<style scoped>\n",
       "    .dataframe tbody tr th:only-of-type {\n",
       "        vertical-align: middle;\n",
       "    }\n",
       "\n",
       "    .dataframe tbody tr th {\n",
       "        vertical-align: top;\n",
       "    }\n",
       "\n",
       "    .dataframe thead th {\n",
       "        text-align: right;\n",
       "    }\n",
       "</style>\n",
       "<table border=\"1\" class=\"dataframe\">\n",
       "  <thead>\n",
       "    <tr style=\"text-align: right;\">\n",
       "      <th></th>\n",
       "      <th>code_snippet</th>\n",
       "      <th>error_name</th>\n",
       "      <th>bug_present</th>\n",
       "    </tr>\n",
       "  </thead>\n",
       "  <tbody>\n",
       "    <tr>\n",
       "      <th>0</th>\n",
       "      <td>a = 'hello'\\nb = a + 5</td>\n",
       "      <td>TypeError</td>\n",
       "      <td>True</td>\n",
       "    </tr>\n",
       "    <tr>\n",
       "      <th>1</th>\n",
       "      <td>a = 'hello'\\nb = a + 5</td>\n",
       "      <td>TypeError</td>\n",
       "      <td>True</td>\n",
       "    </tr>\n",
       "    <tr>\n",
       "      <th>2</th>\n",
       "      <td>def add(a, b):\\n    return a + b\\nprint(add(2,...</td>\n",
       "      <td>NaN</td>\n",
       "      <td>False</td>\n",
       "    </tr>\n",
       "    <tr>\n",
       "      <th>3</th>\n",
       "      <td>import os\\nos.remove('non_existent_file.txt')</td>\n",
       "      <td>FileNotFoundError</td>\n",
       "      <td>True</td>\n",
       "    </tr>\n",
       "    <tr>\n",
       "      <th>4</th>\n",
       "      <td>lst = [1, 2, 3]\\nlst.remove(5)</td>\n",
       "      <td>ValueError</td>\n",
       "      <td>True</td>\n",
       "    </tr>\n",
       "  </tbody>\n",
       "</table>\n",
       "</div>"
      ],
      "text/plain": [
       "                                        code_snippet         error_name  \\\n",
       "0                             a = 'hello'\\nb = a + 5          TypeError   \n",
       "1                             a = 'hello'\\nb = a + 5          TypeError   \n",
       "2  def add(a, b):\\n    return a + b\\nprint(add(2,...                NaN   \n",
       "3      import os\\nos.remove('non_existent_file.txt')  FileNotFoundError   \n",
       "4                     lst = [1, 2, 3]\\nlst.remove(5)         ValueError   \n",
       "\n",
       "   bug_present  \n",
       "0         True  \n",
       "1         True  \n",
       "2        False  \n",
       "3         True  \n",
       "4         True  "
      ]
     },
     "execution_count": 3,
     "metadata": {},
     "output_type": "execute_result"
    }
   ],
   "source": [
    "#  load the dataset\n",
    "df=pd.read_csv('code_snippets_large_dataset.csv')\n",
    "df.head()"
   ]
  },
  {
   "cell_type": "code",
   "execution_count": 4,
   "id": "49264101-9c08-4e05-bdd1-266a7bf21474",
   "metadata": {},
   "outputs": [
    {
     "data": {
      "text/plain": [
       "(5000, 3)"
      ]
     },
     "execution_count": 4,
     "metadata": {},
     "output_type": "execute_result"
    }
   ],
   "source": [
    "df.shape"
   ]
  },
  {
   "cell_type": "code",
   "execution_count": 5,
   "id": "78d613b5-9810-48e8-81b4-592df3af44c9",
   "metadata": {},
   "outputs": [],
   "source": [
    "#  Data Preprocessing\n",
    "def clean_code(text):\n",
    "    text=re.sub(r'[^a-zA-Z0-9_\\s]',' ',text)\n",
    "    tokens=word_tokenize(text.lower())\n",
    "    tokens=[word for word in tokens if word not in stopwords.words('english')]\n",
    "    return ' '.join(tokens)"
   ]
  },
  {
   "cell_type": "code",
   "execution_count": 6,
   "id": "7bd4f7fb-961c-4ff4-80fb-ae99cfba5521",
   "metadata": {},
   "outputs": [
    {
     "data": {
      "text/html": [
       "<div>\n",
       "<style scoped>\n",
       "    .dataframe tbody tr th:only-of-type {\n",
       "        vertical-align: middle;\n",
       "    }\n",
       "\n",
       "    .dataframe tbody tr th {\n",
       "        vertical-align: top;\n",
       "    }\n",
       "\n",
       "    .dataframe thead th {\n",
       "        text-align: right;\n",
       "    }\n",
       "</style>\n",
       "<table border=\"1\" class=\"dataframe\">\n",
       "  <thead>\n",
       "    <tr style=\"text-align: right;\">\n",
       "      <th></th>\n",
       "      <th>code_snippet</th>\n",
       "      <th>error_name</th>\n",
       "      <th>bug_present</th>\n",
       "      <th>cleaned_code</th>\n",
       "    </tr>\n",
       "  </thead>\n",
       "  <tbody>\n",
       "    <tr>\n",
       "      <th>0</th>\n",
       "      <td>a = 'hello'\\nb = a + 5</td>\n",
       "      <td>TypeError</td>\n",
       "      <td>True</td>\n",
       "      <td>hello b 5</td>\n",
       "    </tr>\n",
       "    <tr>\n",
       "      <th>1</th>\n",
       "      <td>a = 'hello'\\nb = a + 5</td>\n",
       "      <td>TypeError</td>\n",
       "      <td>True</td>\n",
       "      <td>hello b 5</td>\n",
       "    </tr>\n",
       "    <tr>\n",
       "      <th>2</th>\n",
       "      <td>def add(a, b):\\n    return a + b\\nprint(add(2,...</td>\n",
       "      <td>NaN</td>\n",
       "      <td>False</td>\n",
       "      <td>def add b return b print add 2 3</td>\n",
       "    </tr>\n",
       "    <tr>\n",
       "      <th>3</th>\n",
       "      <td>import os\\nos.remove('non_existent_file.txt')</td>\n",
       "      <td>FileNotFoundError</td>\n",
       "      <td>True</td>\n",
       "      <td>import os os remove non_existent_file txt</td>\n",
       "    </tr>\n",
       "    <tr>\n",
       "      <th>4</th>\n",
       "      <td>lst = [1, 2, 3]\\nlst.remove(5)</td>\n",
       "      <td>ValueError</td>\n",
       "      <td>True</td>\n",
       "      <td>lst 1 2 3 lst remove 5</td>\n",
       "    </tr>\n",
       "  </tbody>\n",
       "</table>\n",
       "</div>"
      ],
      "text/plain": [
       "                                        code_snippet         error_name  \\\n",
       "0                             a = 'hello'\\nb = a + 5          TypeError   \n",
       "1                             a = 'hello'\\nb = a + 5          TypeError   \n",
       "2  def add(a, b):\\n    return a + b\\nprint(add(2,...                NaN   \n",
       "3      import os\\nos.remove('non_existent_file.txt')  FileNotFoundError   \n",
       "4                     lst = [1, 2, 3]\\nlst.remove(5)         ValueError   \n",
       "\n",
       "   bug_present                               cleaned_code  \n",
       "0         True                                  hello b 5  \n",
       "1         True                                  hello b 5  \n",
       "2        False           def add b return b print add 2 3  \n",
       "3         True  import os os remove non_existent_file txt  \n",
       "4         True                     lst 1 2 3 lst remove 5  "
      ]
     },
     "execution_count": 6,
     "metadata": {},
     "output_type": "execute_result"
    }
   ],
   "source": [
    "df['cleaned_code']=df['code_snippet'].apply(clean_code)\n",
    "df.head()"
   ]
  },
  {
   "cell_type": "code",
   "execution_count": 8,
   "id": "7e911dee-1846-4c09-8385-9bb84174d18d",
   "metadata": {},
   "outputs": [],
   "source": [
    "X=df['cleaned_code']\n",
    "y=df['bug_present']"
   ]
  },
  {
   "cell_type": "code",
   "execution_count": null,
   "id": "db44f13e-3b83-4cef-9218-60540642a1fc",
   "metadata": {},
   "outputs": [],
   "source": [
    "# Feature Extraction\n",
    "from sklearn.feature_extraction.text import TfidfVectorizer\n",
    "vectorizer=TfidfVectorizer()\n",
    "X_Tfidf=vectorizer.fit_transform(X)"
   ]
  },
  {
   "cell_type": "code",
   "execution_count": null,
   "id": "9296e5fe-a42d-481e-9732-34540c179d58",
   "metadata": {},
   "outputs": [],
   "source": [
    "#  train_test_split\n",
    "from sklearn.model_selection import train_test_split\n",
    "X_train,X_test,y_train,y_test=train_test_split(X_Tfidf,y,test_size=0.2,random_state=42)"
   ]
  },
  {
   "cell_type": "code",
   "execution_count": null,
   "id": "e2a1b7f7-b405-4c98-b085-03f214f63c6d",
   "metadata": {},
   "outputs": [],
   "source": [
    "from sklearn.ensemble import RandomForestClassifier\n",
    "rf_model=RandomForestClassifier(n_estimators=100,random_state=42)\n",
    "rf_model.fit(X_train,y_train)"
   ]
  },
  {
   "cell_type": "code",
   "execution_count": null,
   "id": "0ccbd242-5b31-4c5a-9d07-2215c878fa23",
   "metadata": {},
   "outputs": [],
   "source": [
    "from sklearn.metrics import confusion_matrix\n",
    "y_pred=rf_model.predict(X_test)"
   ]
  },
  {
   "cell_type": "code",
   "execution_count": null,
   "id": "a9634d7e-50f6-45fa-930d-697744790955",
   "metadata": {},
   "outputs": [],
   "source": [
    "cm=confusion_matrix(y_test,y_pred)\n",
    "cm"
   ]
  },
  {
   "cell_type": "code",
   "execution_count": null,
   "id": "f6a696a7-2d58-4a3b-a178-46cd13f756a6",
   "metadata": {},
   "outputs": [],
   "source": [
    "X_test"
   ]
  },
  {
   "cell_type": "code",
   "execution_count": null,
   "id": "eb7d8c81-156b-43a6-b4e2-09746318ddb3",
   "metadata": {},
   "outputs": [],
   "source": [
    "# save model and vectorizer\n",
    "pickle.dump(rf_model,open('rf_model.pkl','wb'))\n",
    "pickle.dump(vectorizer,open('Tfidf_vectorizer.pkl','wb'))"
   ]
  },
  {
   "cell_type": "code",
   "execution_count": null,
   "id": "e402f352-7f56-4af4-a6db-372b45a8e2c5",
   "metadata": {},
   "outputs": [],
   "source": []
  }
 ],
 "metadata": {
  "kernelspec": {
   "display_name": "Python 3 (ipykernel)",
   "language": "python",
   "name": "python3"
  },
  "language_info": {
   "codemirror_mode": {
    "name": "ipython",
    "version": 3
   },
   "file_extension": ".py",
   "mimetype": "text/x-python",
   "name": "python",
   "nbconvert_exporter": "python",
   "pygments_lexer": "ipython3",
   "version": "3.13.1"
  }
 },
 "nbformat": 4,
 "nbformat_minor": 5
}
